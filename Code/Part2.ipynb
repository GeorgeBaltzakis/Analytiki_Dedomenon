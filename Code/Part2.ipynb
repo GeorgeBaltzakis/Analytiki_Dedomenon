{
 "cells": [
  {
   "cell_type": "code",
   "execution_count": 1,
   "id": "03a7588d-4c52-4b90-8270-56947bf920e0",
   "metadata": {},
   "outputs": [],
   "source": [
    "import pandas as pd\n",
    "import numpy as np\n",
    "from sklearn.preprocessing import LabelEncoder\n",
    "from sklearn.utils import shuffle\n",
    "import tensorflow as tf\n",
    "from keras.utils import np_utils\n",
    "from keras.models import Sequential\n",
    "from keras.layers import Dense\n",
    "from keras.layers import SimpleRNN, LSTM, GRU\n",
    "import matplotlib.pyplot as plt\n",
    "from sklearn.metrics import matthews_corrcoef\n",
    "from sklearn.metrics import confusion_matrix\n",
    "from sklearn.metrics import mean_squared_error, r2_score\n",
    "from sklearn.preprocessing import MinMaxScaler"
   ]
  },
  {
   "cell_type": "code",
   "execution_count": 2,
   "id": "2602a5d2-5f64-4d9c-82d7-f6a9e9d655fe",
   "metadata": {},
   "outputs": [],
   "source": [
    "def timeseries_to_supervised(df, n_in, n_out):\n",
    "   agg = pd.DataFrame()\n",
    "\n",
    "   for i in range(n_in, 0, -1):\n",
    "      df_shifted = df.shift(i).copy()\n",
    "      df_shifted.rename(columns=lambda x: ('%s(t-%d)' % (x, i)), inplace=True)\n",
    "      agg = pd.concat([agg, df_shifted], axis=1)\n",
    "\n",
    "   for i in range(0, n_out):\n",
    "      df_shifted = df.shift(-i).copy()\n",
    "      if i == 0:\n",
    "         df_shifted.rename(columns=lambda x: ('%s(t)' % (x)), inplace=True)\n",
    "      else:\n",
    "         df_shifted.rename(columns=lambda x: ('%s(t+%d)' % (x, i)), inplace=True)\n",
    "      agg = pd.concat([agg, df_shifted], axis=1)\n",
    "   agg.dropna(inplace=True)\n",
    "   return agg"
   ]
  },
  {
   "cell_type": "code",
   "execution_count": 3,
   "id": "b2713385-44ab-4baa-807e-988ba579999a",
   "metadata": {
    "tags": []
   },
   "outputs": [],
   "source": [
    "data = pd.read_csv(\"../Data/data 2.csv\", header = None, sep=',')"
   ]
  },
  {
   "cell_type": "code",
   "execution_count": 4,
   "id": "6e858602-3557-4574-b656-dcfad0572ffd",
   "metadata": {},
   "outputs": [
    {
     "name": "stdout",
     "output_type": "stream",
     "text": [
      "<class 'pandas.core.frame.DataFrame'>\n",
      "RangeIndex: 530 entries, 0 to 529\n",
      "Data columns (total 10 columns):\n",
      " #   Column  Non-Null Count  Dtype  \n",
      "---  ------  --------------  -----  \n",
      " 0   index   530 non-null    int64  \n",
      " 1   1       530 non-null    float64\n",
      " 2   2       530 non-null    float64\n",
      " 3   3       530 non-null    float64\n",
      " 4   4       530 non-null    float64\n",
      " 5   5       530 non-null    float64\n",
      " 6   6       530 non-null    float64\n",
      " 7   7       530 non-null    float64\n",
      " 8   8       530 non-null    float64\n",
      " 9   9       530 non-null    float64\n",
      "dtypes: float64(9), int64(1)\n",
      "memory usage: 41.5 KB\n",
      "\n",
      "\n"
     ]
    },
    {
     "data": {
      "image/png": "[encoded data removed]",
      "text/plain": [
       "<Figure size 432x288 with 1 Axes>"
      ]
     },
     "metadata": {
      "needs_background": "light"
     },
     "output_type": "display_data"
    },
    {
     "name": "stdout",
     "output_type": "stream",
     "text": [
      "\n",
      "\n"
     ]
    },
    {
     "data": {
      "text/html": [
       "<div>\n",
       "<style scoped>\n",
       "    .dataframe tbody tr th:only-of-type {\n",
       "        vertical-align: middle;\n",
       "    }\n",
       "\n",
       "    .dataframe tbody tr th {\n",
       "        vertical-align: top;\n",
       "    }\n",
       "\n",
       "    .dataframe thead th {\n",
       "        text-align: right;\n",
       "    }\n",
       "</style>\n",
       "<table border=\"1\" class=\"dataframe\">\n",
       "  <thead>\n",
       "    <tr style=\"text-align: right;\">\n",
       "      <th></th>\n",
       "      <th>index</th>\n",
       "      <th>1</th>\n",
       "      <th>2</th>\n",
       "      <th>3</th>\n",
       "      <th>4</th>\n",
       "      <th>5</th>\n",
       "      <th>6</th>\n",
       "      <th>7</th>\n",
       "      <th>8</th>\n",
       "      <th>9</th>\n",
       "    </tr>\n",
       "  </thead>\n",
       "  <tbody>\n",
       "    <tr>\n",
       "      <th>0</th>\n",
       "      <td>0</td>\n",
       "      <td>0.035754</td>\n",
       "      <td>0.038376</td>\n",
       "      <td>-0.004679</td>\n",
       "      <td>0.002193</td>\n",
       "      <td>0.003894</td>\n",
       "      <td>0.000000</td>\n",
       "      <td>0.031190</td>\n",
       "      <td>0.012698</td>\n",
       "      <td>0.028524</td>\n",
       "    </tr>\n",
       "    <tr>\n",
       "      <th>1</th>\n",
       "      <td>1</td>\n",
       "      <td>0.025426</td>\n",
       "      <td>0.031813</td>\n",
       "      <td>0.007787</td>\n",
       "      <td>0.008455</td>\n",
       "      <td>0.012866</td>\n",
       "      <td>0.004162</td>\n",
       "      <td>0.018920</td>\n",
       "      <td>0.011341</td>\n",
       "      <td>0.008773</td>\n",
       "    </tr>\n",
       "    <tr>\n",
       "      <th>2</th>\n",
       "      <td>2</td>\n",
       "      <td>-0.028862</td>\n",
       "      <td>-0.026353</td>\n",
       "      <td>-0.030469</td>\n",
       "      <td>-0.017833</td>\n",
       "      <td>-0.028735</td>\n",
       "      <td>0.017293</td>\n",
       "      <td>-0.035899</td>\n",
       "      <td>-0.017073</td>\n",
       "      <td>-0.020015</td>\n",
       "    </tr>\n",
       "    <tr>\n",
       "      <th>3</th>\n",
       "      <td>3</td>\n",
       "      <td>-0.062208</td>\n",
       "      <td>-0.084716</td>\n",
       "      <td>0.003391</td>\n",
       "      <td>-0.011726</td>\n",
       "      <td>-0.000466</td>\n",
       "      <td>-0.040061</td>\n",
       "      <td>0.028283</td>\n",
       "      <td>-0.005561</td>\n",
       "      <td>-0.019424</td>\n",
       "    </tr>\n",
       "    <tr>\n",
       "      <th>4</th>\n",
       "      <td>4</td>\n",
       "      <td>0.009860</td>\n",
       "      <td>0.009658</td>\n",
       "      <td>-0.021533</td>\n",
       "      <td>-0.019873</td>\n",
       "      <td>-0.012710</td>\n",
       "      <td>-0.004474</td>\n",
       "      <td>-0.009764</td>\n",
       "      <td>-0.010989</td>\n",
       "      <td>-0.007802</td>\n",
       "    </tr>\n",
       "  </tbody>\n",
       "</table>\n",
       "</div>"
      ],
      "text/plain": [
       "   index         1         2         3         4         5         6  \\\n",
       "0      0  0.035754  0.038376 -0.004679  0.002193  0.003894  0.000000   \n",
       "1      1  0.025426  0.031813  0.007787  0.008455  0.012866  0.004162   \n",
       "2      2 -0.028862 -0.026353 -0.030469 -0.017833 -0.028735  0.017293   \n",
       "3      3 -0.062208 -0.084716  0.003391 -0.011726 -0.000466 -0.040061   \n",
       "4      4  0.009860  0.009658 -0.021533 -0.019873 -0.012710 -0.004474   \n",
       "\n",
       "          7         8         9  \n",
       "0  0.031190  0.012698  0.028524  \n",
       "1  0.018920  0.011341  0.008773  \n",
       "2 -0.035899 -0.017073 -0.020015  \n",
       "3  0.028283 -0.005561 -0.019424  \n",
       "4 -0.009764 -0.010989 -0.007802  "
      ]
     },
     "execution_count": 4,
     "metadata": {},
     "output_type": "execute_result"
    }
   ],
   "source": [
    "# Data Cleaning\n",
    "\n",
    "data = data[data.columns[1:]]\n",
    "data.dropna(inplace=True)\n",
    "data.reset_index(inplace=True)\n",
    "data = data.iloc[:530]\n",
    "\n",
    "data.info()\n",
    "print(\"\\n\")\n",
    "plt.plot(data[1])\n",
    "plt.show()\n",
    "print(\"\\n\")\n",
    "data.head()"
   ]
  },
  {
   "cell_type": "code",
   "execution_count": 5,
   "id": "2d1a5f88-c5f6-4d35-8fd1-76f70598b9f2",
   "metadata": {},
   "outputs": [
    {
     "data": {
      "image/png": "[encoded data removed]",
      "text/plain": [
       "<Figure size 432x288 with 1 Axes>"
      ]
     },
     "metadata": {
      "needs_background": "light"
     },
     "output_type": "display_data"
    }
   ],
   "source": [
    "# a scatter plot comparing num_children and num_pets\n",
    "ax = plt.gca()\n",
    "data.plot(kind='line', x='index',y=2, color='blue', ax=ax)\n",
    "data.plot(kind='scatter', x='index',y=2, color='red', ax=ax)\n",
    "plt.show()"
   ]
  },
  {
   "cell_type": "code",
   "execution_count": 6,
   "id": "837c0d58-4c2b-4a02-859e-ce2adf146fca",
   "metadata": {},
   "outputs": [
    {
     "data": {
      "text/html": [
       "<div>\n",
       "<style scoped>\n",
       "    .dataframe tbody tr th:only-of-type {\n",
       "        vertical-align: middle;\n",
       "    }\n",
       "\n",
       "    .dataframe tbody tr th {\n",
       "        vertical-align: top;\n",
       "    }\n",
       "\n",
       "    .dataframe thead th {\n",
       "        text-align: right;\n",
       "    }\n",
       "</style>\n",
       "<table border=\"1\" class=\"dataframe\">\n",
       "  <thead>\n",
       "    <tr style=\"text-align: right;\">\n",
       "      <th></th>\n",
       "      <th>ISE_TL</th>\n",
       "    </tr>\n",
       "  </thead>\n",
       "  <tbody>\n",
       "    <tr>\n",
       "      <th>0</th>\n",
       "      <td>0.035754</td>\n",
       "    </tr>\n",
       "    <tr>\n",
       "      <th>1</th>\n",
       "      <td>0.025426</td>\n",
       "    </tr>\n",
       "    <tr>\n",
       "      <th>2</th>\n",
       "      <td>-0.028862</td>\n",
       "    </tr>\n",
       "    <tr>\n",
       "      <th>3</th>\n",
       "      <td>-0.062208</td>\n",
       "    </tr>\n",
       "    <tr>\n",
       "      <th>4</th>\n",
       "      <td>0.009860</td>\n",
       "    </tr>\n",
       "  </tbody>\n",
       "</table>\n",
       "</div>"
      ],
      "text/plain": [
       "     ISE_TL\n",
       "0  0.035754\n",
       "1  0.025426\n",
       "2 -0.028862\n",
       "3 -0.062208\n",
       "4  0.009860"
      ]
     },
     "execution_count": 6,
     "metadata": {},
     "output_type": "execute_result"
    }
   ],
   "source": [
    "#Convert data to input-output\n",
    "df = data[1].to_frame(name='ISE_TL')\n",
    "\n",
    "df.head()"
   ]
  },
  {
   "cell_type": "code",
   "execution_count": 7,
   "id": "f1b491f4-add9-4350-921b-03abc7186816",
   "metadata": {},
   "outputs": [
    {
     "data": {
      "text/html": [
       "<div>\n",
       "<style scoped>\n",
       "    .dataframe tbody tr th:only-of-type {\n",
       "        vertical-align: middle;\n",
       "    }\n",
       "\n",
       "    .dataframe tbody tr th {\n",
       "        vertical-align: top;\n",
       "    }\n",
       "\n",
       "    .dataframe thead th {\n",
       "        text-align: right;\n",
       "    }\n",
       "</style>\n",
       "<table border=\"1\" class=\"dataframe\">\n",
       "  <thead>\n",
       "    <tr style=\"text-align: right;\">\n",
       "      <th></th>\n",
       "      <th>ISE_TL</th>\n",
       "    </tr>\n",
       "  </thead>\n",
       "  <tbody>\n",
       "    <tr>\n",
       "      <th>0</th>\n",
       "      <td>0.746889</td>\n",
       "    </tr>\n",
       "    <tr>\n",
       "      <th>1</th>\n",
       "      <td>0.668147</td>\n",
       "    </tr>\n",
       "    <tr>\n",
       "      <th>2</th>\n",
       "      <td>0.254242</td>\n",
       "    </tr>\n",
       "    <tr>\n",
       "      <th>3</th>\n",
       "      <td>0.000000</td>\n",
       "    </tr>\n",
       "    <tr>\n",
       "      <th>4</th>\n",
       "      <td>0.549467</td>\n",
       "    </tr>\n",
       "  </tbody>\n",
       "</table>\n",
       "</div>"
      ],
      "text/plain": [
       "     ISE_TL\n",
       "0  0.746889\n",
       "1  0.668147\n",
       "2  0.254242\n",
       "3  0.000000\n",
       "4  0.549467"
      ]
     },
     "execution_count": 7,
     "metadata": {},
     "output_type": "execute_result"
    }
   ],
   "source": [
    "# normalize the dataset\n",
    "df0 = df.copy()\n",
    "scaler = MinMaxScaler(feature_range=(0, 1))\n",
    "df = scaler.fit_transform(np.reshape(df['ISE_TL'].values, (df.shape[0], 1)))\n",
    "df = pd.DataFrame(data=df, columns=['ISE_TL'])\n",
    "\n",
    "df.head()"
   ]
  },
  {
   "cell_type": "code",
   "execution_count": 8,
   "id": "7df156f9-dd85-4074-bc63-0b12844232c0",
   "metadata": {},
   "outputs": [
    {
     "data": {
      "text/html": [
       "<div>\n",
       "<style scoped>\n",
       "    .dataframe tbody tr th:only-of-type {\n",
       "        vertical-align: middle;\n",
       "    }\n",
       "\n",
       "    .dataframe tbody tr th {\n",
       "        vertical-align: top;\n",
       "    }\n",
       "\n",
       "    .dataframe thead th {\n",
       "        text-align: right;\n",
       "    }\n",
       "</style>\n",
       "<table border=\"1\" class=\"dataframe\">\n",
       "  <thead>\n",
       "    <tr style=\"text-align: right;\">\n",
       "      <th></th>\n",
       "      <th>ISE_TL(t-6)</th>\n",
       "      <th>ISE_TL(t-5)</th>\n",
       "      <th>ISE_TL(t-4)</th>\n",
       "      <th>ISE_TL(t-3)</th>\n",
       "      <th>ISE_TL(t-2)</th>\n",
       "      <th>ISE_TL(t-1)</th>\n",
       "      <th>ISE_TL(t)</th>\n",
       "    </tr>\n",
       "  </thead>\n",
       "  <tbody>\n",
       "    <tr>\n",
       "      <th>6</th>\n",
       "      <td>0.746889</td>\n",
       "      <td>0.668147</td>\n",
       "      <td>0.254242</td>\n",
       "      <td>0.000000</td>\n",
       "      <td>0.549467</td>\n",
       "      <td>0.251732</td>\n",
       "      <td>0.592052</td>\n",
       "    </tr>\n",
       "    <tr>\n",
       "      <th>7</th>\n",
       "      <td>0.668147</td>\n",
       "      <td>0.254242</td>\n",
       "      <td>0.000000</td>\n",
       "      <td>0.549467</td>\n",
       "      <td>0.251732</td>\n",
       "      <td>0.592052</td>\n",
       "      <td>0.160419</td>\n",
       "    </tr>\n",
       "    <tr>\n",
       "      <th>8</th>\n",
       "      <td>0.254242</td>\n",
       "      <td>0.000000</td>\n",
       "      <td>0.549467</td>\n",
       "      <td>0.251732</td>\n",
       "      <td>0.592052</td>\n",
       "      <td>0.160419</td>\n",
       "      <td>0.479339</td>\n",
       "    </tr>\n",
       "    <tr>\n",
       "      <th>9</th>\n",
       "      <td>0.000000</td>\n",
       "      <td>0.549467</td>\n",
       "      <td>0.251732</td>\n",
       "      <td>0.592052</td>\n",
       "      <td>0.160419</td>\n",
       "      <td>0.479339</td>\n",
       "      <td>0.642311</td>\n",
       "    </tr>\n",
       "    <tr>\n",
       "      <th>10</th>\n",
       "      <td>0.549467</td>\n",
       "      <td>0.251732</td>\n",
       "      <td>0.592052</td>\n",
       "      <td>0.160419</td>\n",
       "      <td>0.479339</td>\n",
       "      <td>0.642311</td>\n",
       "      <td>0.301278</td>\n",
       "    </tr>\n",
       "  </tbody>\n",
       "</table>\n",
       "</div>"
      ],
      "text/plain": [
       "    ISE_TL(t-6)  ISE_TL(t-5)  ISE_TL(t-4)  ISE_TL(t-3)  ISE_TL(t-2)  \\\n",
       "6      0.746889     0.668147     0.254242     0.000000     0.549467   \n",
       "7      0.668147     0.254242     0.000000     0.549467     0.251732   \n",
       "8      0.254242     0.000000     0.549467     0.251732     0.592052   \n",
       "9      0.000000     0.549467     0.251732     0.592052     0.160419   \n",
       "10     0.549467     0.251732     0.592052     0.160419     0.479339   \n",
       "\n",
       "    ISE_TL(t-1)  ISE_TL(t)  \n",
       "6      0.251732   0.592052  \n",
       "7      0.592052   0.160419  \n",
       "8      0.160419   0.479339  \n",
       "9      0.479339   0.642311  \n",
       "10     0.642311   0.301278  "
      ]
     },
     "execution_count": 8,
     "metadata": {},
     "output_type": "execute_result"
    }
   ],
   "source": [
    "n_in = 6\n",
    "n_out = 1\n",
    "sdf = timeseries_to_supervised(df, n_in, n_out)\n",
    "\n",
    "sdf.head()"
   ]
  },
  {
   "cell_type": "code",
   "execution_count": 9,
   "id": "d4a0b6db-4c51-43b3-ac1a-4eff8aa9dfcc",
   "metadata": {},
   "outputs": [
    {
     "name": "stdout",
     "output_type": "stream",
     "text": [
      "(524, 6) (524,)\n"
     ]
    }
   ],
   "source": [
    "X, y = sdf[[('ISE_TL(t-%d)' % i) for i in range(6, 0, -1)]].values, sdf['ISE_TL(t)'].values\n",
    "print(X.shape, y.shape)"
   ]
  },
  {
   "cell_type": "code",
   "execution_count": 10,
   "id": "04d852e0-cd63-49d2-8074-fae1225d648a",
   "metadata": {},
   "outputs": [
    {
     "name": "stdout",
     "output_type": "stream",
     "text": [
      "Train size: 262\n",
      "Test size: 262\n",
      "(262, 6) (262,)\n",
      "(262, 6) (262,)\n"
     ]
    }
   ],
   "source": [
    "# Preparation for Training\n",
    "\n",
    "# Split data into train and test\n",
    "len_data = X.shape[0]\n",
    "train_size = int(len_data * .5)\n",
    "print (\"Train size: %d\" % train_size)\n",
    "print (\"Test size: %d\" % (len_data - train_size))\n",
    "\n",
    "xtr, ytr = X[:train_size, :], y[:train_size]\n",
    "xte, yte = X[train_size:, :], y[train_size:]\n",
    "print(xtr.shape, ytr.shape)\n",
    "print(xte.shape, yte.shape)"
   ]
  },
  {
   "cell_type": "code",
   "execution_count": 11,
   "id": "b91d7bce-85c3-4ba3-9cf9-bdb41be353f5",
   "metadata": {},
   "outputs": [],
   "source": [
    "# Initialization of [samples, steps, features]\n",
    "\n",
    "samples = train_size\n",
    "steps = 1\n",
    "features_in = n_in\n",
    "features_out = n_out"
   ]
  },
  {
   "cell_type": "code",
   "execution_count": 12,
   "id": "1c2e95a1-880c-41de-8eac-eb90870f0308",
   "metadata": {},
   "outputs": [
    {
     "name": "stdout",
     "output_type": "stream",
     "text": [
      "(262, 1, 6) (262, 1, 1)\n",
      "(262, 1, 6) (262, 1, 1)\n"
     ]
    }
   ],
   "source": [
    "xtr = np.reshape(xtr, (samples, steps, features_in))\n",
    "ytr = np.reshape(ytr, (samples, steps, features_out))\n",
    "print(xtr.shape, ytr.shape)\n",
    "xte = np.reshape(xte, (samples, steps, features_in))\n",
    "yte = np.reshape(yte, (samples, steps, features_out))\n",
    "print(xte.shape, yte.shape)"
   ]
  },
  {
   "cell_type": "code",
   "execution_count": 13,
   "id": "2a05bf90-b257-4f23-b99a-6c8cce087cae",
   "metadata": {},
   "outputs": [
    {
     "name": "stdout",
     "output_type": "stream",
     "text": [
      "Model: \"sequential\"\n",
      "_________________________________________________________________\n",
      "Layer (type)                 Output Shape              Param #   \n",
      "=================================================================\n",
      "dense (Dense)                (None, 100)               700       \n",
      "_________________________________________________________________\n",
      "dense_1 (Dense)              (None, 50)                5050      \n",
      "_________________________________________________________________\n",
      "dense_2 (Dense)              (None, 1)                 51        \n",
      "=================================================================\n",
      "Total params: 5,801\n",
      "Trainable params: 5,801\n",
      "Non-trainable params: 0\n",
      "_________________________________________________________________\n"
     ]
    },
    {
     "data": {
      "text/plain": [
       "<keras.callbacks.History at 0x206cee64700>"
      ]
     },
     "execution_count": 13,
     "metadata": {},
     "output_type": "execute_result"
    }
   ],
   "source": [
    "#-------------------------------------------------- MLP & RNN -----------------------------------#\n",
    "batch_size = 1 #1\n",
    "model = Sequential()\n",
    "\n",
    "# MLP\n",
    "xtr, ytr = X[:train_size, :], y[:train_size]\n",
    "xte, yte = X[train_size:, :], y[train_size:]\n",
    "\n",
    "model.add(Dense(units=100, input_dim=xtr.shape[1], activation=\"relu\"))\n",
    "model.add(Dense(50, activation=\"relu\")) \n",
    "model.add(Dense(1))\n",
    "model.compile(loss='mean_squared_error', optimizer='adam')\n",
    "model.summary()\n",
    "\n",
    "# # RNN\n",
    "# model.add(SimpleRNN(units=100, batch_input_shape=(batch_size, xtr.shape[1], \n",
    "#                                                 xtr.shape[2]), activation=\"relu\", \n",
    "#                                                 return_sequences=True))\n",
    "# model.add(Dense(50, activation=\"relu\")) \n",
    "# model.add(Dense(1))\n",
    "# model.compile(loss='mean_squared_error', optimizer='adam')\n",
    "# model.summary()\n",
    "\n",
    "\n",
    "model.fit(xtr,ytr, epochs=10, batch_size=batch_size, verbose=0)\n"
   ]
  },
  {
   "cell_type": "code",
   "execution_count": 14,
   "id": "b353e8f9-da4a-4335-a124-4f4d601342a1",
   "metadata": {},
   "outputs": [],
   "source": [
    "# Predicting and plotting the result\n",
    "trainPredict = model.predict(xtr, batch_size=batch_size)\n",
    "testPredict = model.predict(xte, batch_size=batch_size)"
   ]
  },
  {
   "cell_type": "code",
   "execution_count": 15,
   "id": "44abb881-9d58-40a3-8903-4b87da3105f5",
   "metadata": {},
   "outputs": [],
   "source": [
    "# invert predictions\n",
    "trainPredict = np.reshape(trainPredict, (samples*steps, features_out))\n",
    "ytr2d = np.reshape(ytr, (samples*steps, features_out))\n",
    "testPredict = np.reshape(testPredict, (samples*steps, features_out))\n",
    "yte2d = np.reshape(yte, (samples*steps, features_out))"
   ]
  },
  {
   "cell_type": "code",
   "execution_count": 16,
   "id": "d8145a9f-970a-4b0d-961c-c75f30c3a2a4",
   "metadata": {},
   "outputs": [],
   "source": [
    "trainPredict = scaler.inverse_transform(trainPredict)\n",
    "trainY = scaler.inverse_transform(ytr2d)\n",
    "testPredict = scaler.inverse_transform(testPredict)\n",
    "testY = scaler.inverse_transform(yte2d)"
   ]
  },
  {
   "cell_type": "code",
   "execution_count": 17,
   "id": "0812aeb2-a5ab-40c5-a255-3489d154752d",
   "metadata": {},
   "outputs": [
    {
     "name": "stdout",
     "output_type": "stream",
     "text": [
      "Test MSE:  0.00022988309861643038\n",
      "Test MSE:  [0.00022988]\n",
      "Test MAE:  [0.01114386]\n",
      "Test R2:  -0.05759813323646745\n",
      "Test R2:  [-0.05759813]\n"
     ]
    }
   ],
   "source": [
    "# Calculate error\n",
    "print(\"Test MSE: \", mean_squared_error(testY, testPredict))\n",
    "print(\"Test MSE: \", sum(np.square(testY-testPredict))/testY.shape[0])\n",
    "print(\"Test MAE: \", sum(abs(testY-testPredict))/testY.shape[0])\n",
    "print(\"Test R2: \", r2_score(testY, testPredict))\n",
    "print(\"Test R2: \", 1-(sum(np.square(testY-testPredict))/sum(np.square(testY-testY.mean()))))"
   ]
  },
  {
   "cell_type": "code",
   "execution_count": 18,
   "id": "5f307781-d733-44d2-9c93-2ed5d509ffac",
   "metadata": {},
   "outputs": [
    {
     "data": {
      "image/png": "[encoded data removed]",
      "text/plain": [
       "<Figure size 432x288 with 1 Axes>"
      ]
     },
     "metadata": {
      "needs_background": "light"
     },
     "output_type": "display_data"
    }
   ],
   "source": [
    "# Finally, we check the result in a plot. \n",
    "# A vertical line in a plot identifies a splitting point between \n",
    "# the training and the test part.\n",
    "predicted = np.concatenate((trainPredict,testPredict),axis=0)\n",
    "\n",
    "original = np.concatenate((trainY,testY),axis=0)\n",
    "predicted = np.concatenate((trainPredict,testPredict),axis=0)\n",
    "index = range(0, original.shape[0])\n",
    "plt.plot(index,original, 'g')\n",
    "plt.plot(index,predicted, 'r')\n",
    "plt.axvline(df.index[train_size], c=\"b\")\n",
    "plt.show()"
   ]
  }
 ],
 "metadata": {
  "kernelspec": {
   "display_name": "Python 3",
   "language": "python",
   "name": "python3"
  },
  "language_info": {
   "codemirror_mode": {
    "name": "ipython",
    "version": 3
   },
   "file_extension": ".py",
   "mimetype": "text/x-python",
   "name": "python",
   "nbconvert_exporter": "python",
   "pygments_lexer": "ipython3",
   "version": "3.9.0"
  }
 },
 "nbformat": 4,
 "nbformat_minor": 5
}
